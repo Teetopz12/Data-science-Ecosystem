{
 "cells": [
  {
   "cell_type": "markdown",
   "id": "54d908b7",
   "metadata": {},
   "source": [
    "# Data Science Tools and Ecosystem"
   ]
  },
  {
   "cell_type": "markdown",
   "id": "20b22058",
   "metadata": {},
   "source": [
    "In this notebook, Data Science tools and ecosystem are summarized."
   ]
  },
  {
   "cell_type": "markdown",
   "id": "69afda2a",
   "metadata": {},
   "source": [
    "Some of the popular languages that data scientists use are:\n",
    "    1. Python\n",
    "    2. R\n",
    "    3. SQL\n",
    "    4. C++\n",
    "    5. Java etc."
   ]
  },
  {
   "cell_type": "markdown",
   "id": "8a1de904",
   "metadata": {},
   "source": [
    "some of the commonly libraries used by data scientists include:\n",
    "    1. tensorflow\n",
    "    2. Numpy\n",
    "    3. Scipy\n",
    "    4. Pandas\n",
    "    5. Matplotlib\n",
    "    6. Keras\n",
    "    7. Scikit-learn\n",
    "    8. Pytorch etc...;"
   ]
  },
  {
   "cell_type": "markdown",
   "id": "40cac32a",
   "metadata": {},
   "source": [
    "|Data Science Tools|\n",
    "|---|\n",
    "|SAS|\n",
    "|Apache Hadoop|\n",
    "|Tensorflow|"
   ]
  },
  {
   "cell_type": "markdown",
   "id": "c89bad87",
   "metadata": {},
   "source": [
    "### Below are a few examples of evaluating arithmetic expression in python. "
   ]
  },
  {
   "cell_type": "code",
   "execution_count": 7,
   "id": "a6af3024",
   "metadata": {},
   "outputs": [
    {
     "data": {
      "text/plain": [
       "17"
      ]
     },
     "execution_count": 7,
     "metadata": {},
     "output_type": "execute_result"
    }
   ],
   "source": [
    "#this is a common arithmetic example to multiply and then add integers\n",
    "(3*4)+5"
   ]
  },
  {
   "cell_type": "code",
   "execution_count": 8,
   "id": "685e46e5",
   "metadata": {},
   "outputs": [
    {
     "data": {
      "text/plain": [
       "3.3333333333333335"
      ]
     },
     "execution_count": 8,
     "metadata": {},
     "output_type": "execute_result"
    }
   ],
   "source": [
    "#this will convert 200 minutes to hours by dividing by 60\n",
    "200/60"
   ]
  },
  {
   "cell_type": "markdown",
   "id": "55a890d9",
   "metadata": {},
   "source": [
    "_objective_\n",
    "* List popular languages for data science\n",
    "* List popular Libraries for data science\n",
    "* List of well known data science tools\n",
    "* how to provide comments in the cell"
   ]
  },
  {
   "cell_type": "markdown",
   "id": "43c8b8aa",
   "metadata": {},
   "source": [
    "# Author\n",
    "Lakshmi Holla"
   ]
  },
  {
   "cell_type": "code",
   "execution_count": null,
   "id": "ac24ae79",
   "metadata": {},
   "outputs": [],
   "source": []
  }
 ],
 "metadata": {
  "kernelspec": {
   "display_name": "Python 3 (ipykernel)",
   "language": "python",
   "name": "python3"
  },
  "language_info": {
   "codemirror_mode": {
    "name": "ipython",
    "version": 3
   },
   "file_extension": ".py",
   "mimetype": "text/x-python",
   "name": "python",
   "nbconvert_exporter": "python",
   "pygments_lexer": "ipython3",
   "version": "3.11.5"
  }
 },
 "nbformat": 4,
 "nbformat_minor": 5
}
